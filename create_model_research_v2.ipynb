{
 "cells": [
  {
   "cell_type": "code",
   "execution_count": 1,
   "metadata": {},
   "outputs": [],
   "source": [
    "import numpy as np\n",
    "import pandas as pd\n",
    "from data_manager import get_substring, load_metadata\n",
    "from score import ProbabilityToScore\n",
    "from columns_desc import columns_dict\n",
    "from fast_ml.model_development import train_valid_test_split\n",
    "from sklearn.pipeline import Pipeline\n",
    "from sklearn.inspection import permutation_importance\n",
    "from sklearn.metrics import confusion_matrix, classification_report, roc_auc_score, plot_roc_curve\n",
    "import matplotlib.pyplot as plt\n",
    "import seaborn as sns\n",
    "from feature_engine.imputation import ArbitraryNumberImputer, CategoricalImputer\n",
    "from feature_engine.selection import DropFeatures\n",
    "from feature_engine.encoding import OneHotEncoder\n",
    "from preprocessors import TemporalVariableTransformerDays, TemporalVariableTransformerYears\n",
    "# from catboost import CatBoostClassifier\n",
    "import xgboost as xgb\n",
    "from xgboost import plot_importance\n",
    "import shap\n",
    "from yellowbrick.classifier import (\n",
    "    ClassificationReport,\n",
    "    DiscriminationThreshold,\n",
    "    ROCAUC\n",
    ")\n",
    "\n",
    "\n",
    "pd.options.display.max_columns = 200\n",
    "pd.options.display.max_rows = 200"
   ]
  },
  {
   "cell_type": "code",
   "execution_count": 2,
   "metadata": {},
   "outputs": [],
   "source": [
    "df = pd.read_csv('/Users/ronsnir/Documents/postpay/data/behaviour_mature_at_due_df_v2.csv')\n",
    "df.drop(columns=[\"customer_date_joined\"], inplace=True)"
   ]
  },
  {
   "cell_type": "code",
   "execution_count": 3,
   "metadata": {},
   "outputs": [
    {
     "data": {
      "text/plain": [
       "(17814, 36)"
      ]
     },
     "execution_count": 3,
     "metadata": {},
     "output_type": "execute_result"
    }
   ],
   "source": [
    "df.shape"
   ]
  },
  {
   "cell_type": "code",
   "execution_count": 4,
   "metadata": {},
   "outputs": [
    {
     "name": "stdout",
     "output_type": "stream",
     "text": [
      "unpaid_at_due: 10.729006529617143\n",
      "unpaid_at_5: 5.067389409679074\n",
      "unpaid_at_10: 3.695931107174113\n",
      "unpaid_at_20: 2.4963436373615173\n",
      "unpaid_at_30: 1.9480353019872592\n",
      "unpaid_at_60: 1.4724386685465134\n",
      "unpaid_at_90: 1.0254102911452543\n"
     ]
    }
   ],
   "source": [
    "for u in ['unpaid_at_due', 'unpaid_at_5', 'unpaid_at_10', 'unpaid_at_20', 'unpaid_at_30', 'unpaid_at_60', 'unpaid_at_90']:\n",
    "    mature_df = df[pd.notnull(df[u])]\n",
    "    print(f\"{u}: {(mature_df[u].sum() / mature_df['total_amount'].sum()) * 100}\")"
   ]
  },
  {
   "cell_type": "code",
   "execution_count": 5,
   "metadata": {},
   "outputs": [],
   "source": [
    "# Drop irrelevant unpaid columns\n",
    "unpaid_at_30_df = df[pd.notnull(df['unpaid_at_30'])].drop(columns=['unpaid_at_due', 'unpaid_at_5', 'unpaid_at_10', 'unpaid_at_20', 'unpaid_at_60', 'unpaid_at_90'])\n",
    "# Drop more irrelevant columns\n",
    "unpaid_at_30_df = unpaid_at_30_df.drop(columns=[\"count_paid_orders\", \"count_unpaid_orders\", \"count_paid_instalments\", \"count_unpaid_instalments\", \"days_since_last_unpaid\", \"avg_fees_per_order_180d\", \"avg_fees_per_order_90d\", \"avg_fees_per_order_30d\"])\n",
    "# Keep only returning customers (and drop the is_returning column)\n",
    "returning_df = unpaid_at_30_df[unpaid_at_30_df['is_returning'] == True].drop(columns=['is_returning'])\n",
    "# Convert unpaid_at_30 to be classifier (1 when unpaid_at_30 is bigger than 0, 0 otherwise)\n",
    "returning_df['unpaid_at_30'] = np.where(returning_df['unpaid_at_30'] > 0, 1, 0)\n",
    "# Remove Shopping App orders\n",
    "browser_df_df = returning_df[~returning_df['checkout_type'].isin(['postpay-card'])]\n",
    "# Fetch the device type from user_agent variable (and drop the user_agent column)\n",
    "browser_df_df['user_agent_type'] = browser_df_df['user_agent'].apply(lambda row: get_substring(row, strings_list = ['iPhone', 'Windows NT', 'Macintosh', 'Android'])) # Maybe in the pipeline\n",
    "browser_df_df.drop(columns=['user_agent'], inplace=True)\n",
    "returning_unpaid_at_30_df = browser_df_df.copy()"
   ]
  },
  {
   "cell_type": "code",
   "execution_count": 6,
   "metadata": {},
   "outputs": [
    {
     "data": {
      "text/plain": [
       "2.5338424158278374"
      ]
     },
     "execution_count": 6,
     "metadata": {},
     "output_type": "execute_result"
    }
   ],
   "source": [
    "returning_unpaid_at_30_df['unpaid_at_30'].mean()*100"
   ]
  },
  {
   "cell_type": "markdown",
   "metadata": {},
   "source": [
    "# Start the research"
   ]
  },
  {
   "cell_type": "code",
   "execution_count": 7,
   "metadata": {},
   "outputs": [
    {
     "name": "stdout",
     "output_type": "stream",
     "text": [
      "<class 'pandas.core.frame.DataFrame'>\n",
      "Int64Index: 5762 entries, 84 to 17812\n",
      "Data columns (total 21 columns):\n",
      " #   Column                        Non-Null Count  Dtype  \n",
      "---  ------                        --------------  -----  \n",
      " 0   instalment_plan_id            5762 non-null   int64  \n",
      " 1   customer_id                   5762 non-null   float64\n",
      " 2   order_id                      5762 non-null   int64  \n",
      " 3   created                       5762 non-null   object \n",
      " 4   payment_method_brand          5762 non-null   object \n",
      " 5   payment_method_expires        5762 non-null   object \n",
      " 6   merchant_name                 5762 non-null   object \n",
      " 7   checkout_type                 5762 non-null   object \n",
      " 8   payment_method_type           5762 non-null   object \n",
      " 9   nr_of_items                   5762 non-null   float64\n",
      " 10  unpaid_at_30                  5762 non-null   int64  \n",
      " 11  total_amount                  5762 non-null   float64\n",
      " 12  avg_order_value               4244 non-null   float64\n",
      " 13  avg_fees_per_order_365d       4244 non-null   float64\n",
      " 14  count_merchants_per_customer  5762 non-null   int64  \n",
      " 15  count_open_orders             1 non-null      float64\n",
      " 16  current_exposure              5762 non-null   float64\n",
      " 17  sum_paid_amount               5631 non-null   float64\n",
      " 18  customer_first_joined         5762 non-null   object \n",
      " 19  date_of_birth                 5299 non-null   object \n",
      " 20  user_agent_type               5743 non-null   object \n",
      "dtypes: float64(8), int64(4), object(9)\n",
      "memory usage: 990.3+ KB\n"
     ]
    }
   ],
   "source": [
    "returning_unpaid_at_30_df.info()"
   ]
  },
  {
   "cell_type": "code",
   "execution_count": 8,
   "metadata": {},
   "outputs": [],
   "source": [
    "date_cols_list = [c for c in columns_dict if columns_dict[c][\"class\"] in [\"date\"]]\n",
    "num_cols_list = [c for c in columns_dict if columns_dict[c][\"class\"] in [\"integer\", \"numeric\"]]\n",
    "cat_cols_list = [c for c in columns_dict if columns_dict[c][\"class\"] in [\"categorical\"]]\n",
    "id_cols_list = [c for c in columns_dict if columns_dict[c][\"class\"] in [\"id\"]]"
   ]
  },
  {
   "cell_type": "code",
   "execution_count": 9,
   "metadata": {},
   "outputs": [],
   "source": [
    "returning_unpaid_at_30_df[date_cols_list] = returning_unpaid_at_30_df[date_cols_list].astype('M')\n",
    "returning_unpaid_at_30_df[num_cols_list] = returning_unpaid_at_30_df[num_cols_list].astype('f')\n",
    "returning_unpaid_at_30_df[cat_cols_list] = returning_unpaid_at_30_df[cat_cols_list].astype('O')\n",
    "# returning_unpaid_at_30_df[date_cols_list] = returning_unpaid_at_30_df[date_cols_list].astype('M')\n",
    "# https://numpy.org/doc/stable/reference/arrays.dtypes.html"
   ]
  },
  {
   "cell_type": "code",
   "execution_count": 10,
   "metadata": {},
   "outputs": [
    {
     "name": "stdout",
     "output_type": "stream",
     "text": [
      "<class 'pandas.core.frame.DataFrame'>\n",
      "Int64Index: 5762 entries, 84 to 17812\n",
      "Data columns (total 21 columns):\n",
      " #   Column                        Non-Null Count  Dtype         \n",
      "---  ------                        --------------  -----         \n",
      " 0   instalment_plan_id            5762 non-null   int64         \n",
      " 1   customer_id                   5762 non-null   float64       \n",
      " 2   order_id                      5762 non-null   int64         \n",
      " 3   created                       5762 non-null   datetime64[ns]\n",
      " 4   payment_method_brand          5762 non-null   object        \n",
      " 5   payment_method_expires        5762 non-null   datetime64[ns]\n",
      " 6   merchant_name                 5762 non-null   object        \n",
      " 7   checkout_type                 5762 non-null   object        \n",
      " 8   payment_method_type           5762 non-null   object        \n",
      " 9   nr_of_items                   5762 non-null   float32       \n",
      " 10  unpaid_at_30                  5762 non-null   float32       \n",
      " 11  total_amount                  5762 non-null   float32       \n",
      " 12  avg_order_value               4244 non-null   float32       \n",
      " 13  avg_fees_per_order_365d       4244 non-null   float32       \n",
      " 14  count_merchants_per_customer  5762 non-null   float32       \n",
      " 15  count_open_orders             1 non-null      float32       \n",
      " 16  current_exposure              5762 non-null   float32       \n",
      " 17  sum_paid_amount               5631 non-null   float32       \n",
      " 18  customer_first_joined         5762 non-null   datetime64[ns]\n",
      " 19  date_of_birth                 5299 non-null   datetime64[ns]\n",
      " 20  user_agent_type               5743 non-null   object        \n",
      "dtypes: datetime64[ns](4), float32(9), float64(1), int64(2), object(5)\n",
      "memory usage: 787.8+ KB\n"
     ]
    }
   ],
   "source": [
    "returning_unpaid_at_30_df.info()"
   ]
  },
  {
   "cell_type": "markdown",
   "metadata": {},
   "source": [
    "# Analysis"
   ]
  },
  {
   "cell_type": "markdown",
   "metadata": {},
   "source": [
    "## Target"
   ]
  },
  {
   "cell_type": "code",
   "execution_count": 11,
   "metadata": {},
   "outputs": [
    {
     "data": {
      "image/png": "[encoded data removed]",
      "text/plain": [
       "<Figure size 576x396 with 1 Axes>"
      ]
     },
     "metadata": {},
     "output_type": "display_data"
    }
   ],
   "source": [
    "ax = returning_unpaid_at_30_df[\"unpaid_at_30\"].value_counts().plot(kind=\"barh\")\n",
    "totals = [i.get_width() for i in ax.patches]\n",
    "total = sum(totals)\n",
    "for i in ax.patches:\n",
    "     ax.text(i.get_width()+.3, i.get_y()+.20, \n",
    "     str(round((i.get_width()/total)*100, 2))+'%', \n",
    "     fontsize=10, color='black')\n",
    "ax.grid(axis=\"x\")\n",
    "plt.suptitle(\"Unpaid Rate\", fontsize=20)\n",
    "plt.show()"
   ]
  },
  {
   "cell_type": "code",
   "execution_count": 12,
   "metadata": {},
   "outputs": [
    {
     "data": {
      "text/plain": [
       "count_open_orders          99.982645\n",
       "avg_order_value            26.345019\n",
       "avg_fees_per_order_365d    26.345019\n",
       "date_of_birth               8.035404\n",
       "sum_paid_amount             2.273516\n",
       "user_agent_type             0.329747\n",
       "dtype: float64"
      ]
     },
     "execution_count": 12,
     "metadata": {},
     "output_type": "execute_result"
    }
   ],
   "source": [
    "# make a list of the variables that contain missing values\n",
    "vars_with_na = [var for var in returning_unpaid_at_30_df.columns if returning_unpaid_at_30_df[var].isnull().sum() > 0]\n",
    "\n",
    "# determine percentage of missing values (expressed as decimals)\n",
    "# and display the result ordered by % of missin data\n",
    "\n",
    "returning_unpaid_at_30_df[vars_with_na].isnull().mean().sort_values(ascending=False)*100"
   ]
  },
  {
   "cell_type": "code",
   "execution_count": null,
   "metadata": {},
   "outputs": [],
   "source": []
  }
 ],
 "metadata": {
  "interpreter": {
   "hash": "72c9e066f3832e661e77702c83956ec8512245035d935f479a48dd2390208590"
  },
  "kernelspec": {
   "display_name": "Python 3.9.7 64-bit ('pp-res-cenv': conda)",
   "language": "python",
   "name": "python3"
  },
  "language_info": {
   "codemirror_mode": {
    "name": "ipython",
    "version": 3
   },
   "file_extension": ".py",
   "mimetype": "text/x-python",
   "name": "python",
   "nbconvert_exporter": "python",
   "pygments_lexer": "ipython3",
   "version": "3.9.7"
  },
  "orig_nbformat": 4
 },
 "nbformat": 4,
 "nbformat_minor": 2
}
